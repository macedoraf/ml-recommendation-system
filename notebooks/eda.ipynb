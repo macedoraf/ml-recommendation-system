{
 "cells": [
  {
   "cell_type": "code",
   "execution_count": 1,
   "id": "748d8950",
   "metadata": {},
   "outputs": [
    {
     "name": "stdout",
     "output_type": "stream",
     "text": [
      "Total de ratings: 25000095\n",
      "Total de usuários: 162541\n",
      "Total de filmes: 59047\n"
     ]
    },
    {
     "data": {
      "image/png": "[encoded data removed]",
      "text/plain": [
       "<Figure size 640x480 with 1 Axes>"
      ]
     },
     "metadata": {},
     "output_type": "display_data"
    },
    {
     "name": "stdout",
     "output_type": "stream",
     "text": [
      "Top 10 filmes:\n",
      "       movieId                                      title  \\\n",
      "108       110                          Braveheart (1995)   \n",
      "257       260  Star Wars: Episode IV - A New Hope (1977)   \n",
      "292       296                        Pulp Fiction (1994)   \n",
      "314       318           Shawshank Redemption, The (1994)   \n",
      "351       356                        Forrest Gump (1994)   \n",
      "475       480                       Jurassic Park (1993)   \n",
      "522       527                    Schindler's List (1993)   \n",
      "585       593           Silence of the Lambs, The (1991)   \n",
      "2480     2571                         Matrix, The (1999)   \n",
      "2867     2959                          Fight Club (1999)   \n",
      "\n",
      "                                genres  \n",
      "108                   Action|Drama|War  \n",
      "257            Action|Adventure|Sci-Fi  \n",
      "292        Comedy|Crime|Drama|Thriller  \n",
      "314                        Crime|Drama  \n",
      "351           Comedy|Drama|Romance|War  \n",
      "475   Action|Adventure|Sci-Fi|Thriller  \n",
      "522                          Drama|War  \n",
      "585              Crime|Horror|Thriller  \n",
      "2480            Action|Sci-Fi|Thriller  \n",
      "2867       Action|Crime|Drama|Thriller  \n"
     ]
    }
   ],
   "source": [
    "import pandas as pd\n",
    "import matplotlib.pyplot as plt\n",
    "\n",
    "# Carregar dados\n",
    "ratings = pd.read_csv(\"../data/raw/ml-25m/ratings.csv\")\n",
    "movies = pd.read_csv(\"../data/raw/ml-25m/movies.csv\")\n",
    "\n",
    "# 1. Estatísticas básicas\n",
    "print(\"Total de ratings:\", len(ratings))\n",
    "print(\"Total de usuários:\", ratings['userId'].nunique())\n",
    "print(\"Total de filmes:\", ratings['movieId'].nunique())\n",
    "\n",
    "# 2. Distribuição de ratings\n",
    "ratings['rating'].hist(bins=5)\n",
    "plt.title(\"Distribuição de Ratings (1-5)\")\n",
    "plt.show()\n",
    "\n",
    "# 3. Top 10 filmes mais avaliados\n",
    "top_movies = ratings['movieId'].value_counts().head(10)\n",
    "print(\"Top 10 filmes:\\n\", movies[movies['movieId'].isin(top_movies.index)])"
   ]
  },
  {
   "cell_type": "code",
   "execution_count": 2,
   "id": "2af4c6e4",
   "metadata": {},
   "outputs": [
    {
     "name": "stdout",
     "output_type": "stream",
     "text": [
      "Missing values em ratings:\n",
      " userId       0\n",
      "movieId      0\n",
      "rating       0\n",
      "timestamp    0\n",
      "dtype: int64\n",
      "Ratings inválidos:           userId  movieId  rating   timestamp\n",
      "31             1     5269     0.5  1147879571\n",
      "71             2       62     0.5  1141417130\n",
      "77             2      261     0.5  1141417855\n",
      "136            2     1722     0.5  1141415864\n",
      "139            2     1923     0.5  1141417516\n",
      "...          ...      ...     ...         ...\n",
      "24999928  162541      344     0.5  1240949530\n",
      "24999942  162541      737     0.5  1240951690\n",
      "25000012  162541     2748     0.5  1240950644\n",
      "25000046  162541     4370     0.5  1240949454\n",
      "25000073  162541     6793     0.5  1240952009\n",
      "\n",
      "[393068 rows x 4 columns]\n"
     ]
    }
   ],
   "source": [
    "# Missing values\n",
    "print(\"Missing values em ratings:\\n\", ratings.isnull().sum())\n",
    "\n",
    "# Ratings fora do esperado (1-5)\n",
    "print(\"Ratings inválidos:\", ratings[~ratings['rating'].between(1, 5)])"
   ]
  },
  {
   "cell_type": "markdown",
   "id": "ddb4a5fe",
   "metadata": {},
   "source": [
    "# Key Findings\n",
    "\n",
    "Q: Qual a média de ratings por usuário?\n",
    "\n",
    "Q: Há gêneros de filmes dominantes?\n"
   ]
  },
  {
   "cell_type": "code",
   "execution_count": 7,
   "id": "3ee16fe1",
   "metadata": {},
   "outputs": [
    {
     "name": "stdout",
     "output_type": "stream",
     "text": [
      "Qual a média de ratings por usuário? R: 153.80793153727367\n",
      "Há gêneros de filmes dominantes?\n",
      " R: \n",
      " genres\n",
      "Drama                 25606\n",
      "Comedy                16870\n",
      "Thriller               8654\n",
      "Romance                7719\n",
      "Action                 7348\n",
      "Horror                 5989\n",
      "Documentary            5605\n",
      "Crime                  5319\n",
      "(no genres listed)     5062\n",
      "Adventure              4145\n",
      "Sci-Fi                 3595\n",
      "Children               2935\n",
      "Animation              2929\n",
      "Mystery                2925\n",
      "Fantasy                2731\n",
      "War                    1874\n",
      "Western                1399\n",
      "Musical                1054\n",
      "Film-Noir               353\n",
      "IMAX                    195\n",
      "Name: count, dtype: int64\n"
     ]
    }
   ],
   "source": [
    "# Qual a média de ratings por usuário?\n",
    "\n",
    "print(f\"Qual a média de ratings por usuário? R: {ratings.groupby('userId')['rating'].count().mean()}\")\n",
    "\n",
    "# Há gêneros de filmes dominantes?\n",
    "print(f\"Há gêneros de filmes dominantes?\\n R: \\n {movies['genres'].str.split('|').explode().value_counts()}\")"
   ]
  }
 ],
 "metadata": {
  "kernelspec": {
   "display_name": ".venv",
   "language": "python",
   "name": "python3"
  },
  "language_info": {
   "codemirror_mode": {
    "name": "ipython",
    "version": 3
   },
   "file_extension": ".py",
   "mimetype": "text/x-python",
   "name": "python",
   "nbconvert_exporter": "python",
   "pygments_lexer": "ipython3",
   "version": "3.12.0"
  }
 },
 "nbformat": 4,
 "nbformat_minor": 5
}
